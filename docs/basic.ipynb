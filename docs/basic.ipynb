{
 "cells": [
  {
   "cell_type": "markdown",
   "id": "69986b58",
   "metadata": {},
   "source": [
    "<a href=\"https://colab.research.google.com/github/fralfaro/DS-Python-Course/blob/main/docs/basic.ipynb\" target=\"_parent\"><img src=\"https://colab.research.google.com/assets/colab-badge.svg\" alt=\"Open In Colab\"/></a>\n",
    "\n",
    "\n",
    "# Nomenclatura\n",
    "\n",
    "## Hola mundo!\n",
    "\n",
    "Para imprimir \"Hola mundo\" en Python, puedes utilizar la función `print()` o simplemente escribir el texto entre comillas y presionar Enter. Aquí tienes dos formas de hacerlo:"
   ]
  },
  {
   "cell_type": "code",
   "execution_count": 1,
   "id": "99eb5557",
   "metadata": {},
   "outputs": [
    {
     "name": "stdout",
     "output_type": "stream",
     "text": [
      "Hola Mundo\n"
     ]
    }
   ],
   "source": [
    "print(\"Hola Mundo\")"
   ]
  },
  {
   "cell_type": "markdown",
   "id": "ccc7e121",
   "metadata": {},
   "source": [
    "## Tipos de variables\n",
    "\n",
    "En Python, hay varios tipos de variables que se utilizan para almacenar diferentes tipos de datos. Algunos de los tipos de variables más comunes en Python son los siguientes, junto con ejemplos de cómo se pueden utilizar:\n",
    "\n",
    "1. **Números enteros** (int):"
   ]
  },
  {
   "cell_type": "code",
   "execution_count": 2,
   "id": "af745825",
   "metadata": {},
   "outputs": [
    {
     "name": "stdout",
     "output_type": "stream",
     "text": [
      "25\n"
     ]
    }
   ],
   "source": [
    "# Ejemplo de variable entera\n",
    "edad = 25\n",
    "print(edad)"
   ]
  },
  {
   "cell_type": "markdown",
   "id": "2bcd8a27",
   "metadata": {},
   "source": [
    "2. **Números de punto flotante** (float):"
   ]
  },
  {
   "cell_type": "code",
   "execution_count": 3,
   "id": "4bfcbc9e",
   "metadata": {},
   "outputs": [
    {
     "name": "stdout",
     "output_type": "stream",
     "text": [
      "12.99\n"
     ]
    }
   ],
   "source": [
    "# Ejemplo de variable de punto flotante\n",
    "precio = 12.99\n",
    "print(precio)"
   ]
  },
  {
   "cell_type": "markdown",
   "id": "9e182c9e",
   "metadata": {},
   "source": [
    "3. **Cadenas de texto** (str):"
   ]
  },
  {
   "cell_type": "code",
   "execution_count": 4,
   "id": "a9d9ba65",
   "metadata": {},
   "outputs": [
    {
     "name": "stdout",
     "output_type": "stream",
     "text": [
      "Juan\n"
     ]
    }
   ],
   "source": [
    "nombre = \"Juan\"\n",
    "print(nombre)"
   ]
  },
  {
   "cell_type": "markdown",
   "id": "96ada5f9",
   "metadata": {},
   "source": [
    "4. **Booleanos** (bool):"
   ]
  },
  {
   "cell_type": "code",
   "execution_count": 5,
   "id": "3f76af88",
   "metadata": {},
   "outputs": [
    {
     "name": "stdout",
     "output_type": "stream",
     "text": [
      "True\n"
     ]
    }
   ],
   "source": [
    "# Ejemplo de variable booleana\n",
    "es_mayor_de_edad = True\n",
    "print(es_mayor_de_edad)"
   ]
  },
  {
   "cell_type": "markdown",
   "id": "bc1df8d7",
   "metadata": {},
   "source": [
    "En Python, las variables no requieren una declaración explícita de tipo y el tipo de datos se determina automáticamente según el valor que se les asigne. Python es un lenguaje de tipado dinámico, lo que significa que una variable puede cambiar su tipo de dato durante la ejecución del programa.\n",
    "\n",
    "Por ejemplo, una variable puede comenzar siendo un número entero y luego cambiar a una cadena de texto, dependiendo del valor que se le asigne en diferentes momentos del programa:"
   ]
  },
  {
   "cell_type": "code",
   "execution_count": 6,
   "id": "bdfa29c7",
   "metadata": {},
   "outputs": [
    {
     "name": "stdout",
     "output_type": "stream",
     "text": [
      "10\n",
      "¡Hola!\n"
     ]
    }
   ],
   "source": [
    "variable_dinamica = 10\n",
    "print(variable_dinamica)  # Salida: 10\n",
    "\n",
    "variable_dinamica = \"¡Hola!\"\n",
    "print(variable_dinamica)  # Salida: ¡Hola!"
   ]
  },
  {
   "cell_type": "markdown",
   "id": "d0fbd2b7",
   "metadata": {},
   "source": [
    "Estos son solo algunos ejemplos de los tipos de variables que puedes utilizar en Python. Dependiendo del tipo de datos con el que estés trabajando y las necesidades de tu programa, podrás elegir el tipo de variable más apropiado para almacenar y manipular la información."
   ]
  },
  {
   "cell_type": "markdown",
   "id": "06f6091c",
   "metadata": {},
   "source": [
    "## Operaciones Básicas\n",
    "\n",
    "Python ofrece diversas operaciones básicas que puedes utilizar para realizar cálculos y manipulaciones de datos. A continuación, se presentan algunas de las operaciones básicas más comunes en Python:\n",
    "\n",
    "1. **Operaciones aritméticas**:"
   ]
  },
  {
   "cell_type": "code",
   "execution_count": 7,
   "id": "5b663d50",
   "metadata": {},
   "outputs": [],
   "source": [
    "a = 10\n",
    "b = 5"
   ]
  },
  {
   "cell_type": "code",
   "execution_count": 8,
   "id": "5093fc1b",
   "metadata": {},
   "outputs": [
    {
     "name": "stdout",
     "output_type": "stream",
     "text": [
      "Suma: 15\n"
     ]
    }
   ],
   "source": [
    "# Suma\n",
    "suma = a + b\n",
    "print(\"Suma:\", suma)"
   ]
  },
  {
   "cell_type": "code",
   "execution_count": 9,
   "id": "43872223",
   "metadata": {},
   "outputs": [
    {
     "name": "stdout",
     "output_type": "stream",
     "text": [
      "Resta: 5\n"
     ]
    }
   ],
   "source": [
    "# Resta\n",
    "resta = a - b\n",
    "print(\"Resta:\", resta)"
   ]
  },
  {
   "cell_type": "code",
   "execution_count": 10,
   "id": "6a067adc",
   "metadata": {},
   "outputs": [
    {
     "name": "stdout",
     "output_type": "stream",
     "text": [
      "Multiplicación: 50\n"
     ]
    }
   ],
   "source": [
    "# Multiplicación\n",
    "multiplicacion = a * b\n",
    "print(\"Multiplicación:\", multiplicacion)"
   ]
  },
  {
   "cell_type": "code",
   "execution_count": 11,
   "id": "bdc7e23c",
   "metadata": {},
   "outputs": [
    {
     "name": "stdout",
     "output_type": "stream",
     "text": [
      "División: 2.0\n"
     ]
    }
   ],
   "source": [
    "# División\n",
    "division = a / b\n",
    "print(\"División:\", division)"
   ]
  },
  {
   "cell_type": "code",
   "execution_count": 12,
   "id": "23524046",
   "metadata": {},
   "outputs": [
    {
     "name": "stdout",
     "output_type": "stream",
     "text": [
      "División entera: 2\n"
     ]
    }
   ],
   "source": [
    "# División entera\n",
    "division_entera = a // b\n",
    "print(\"División entera:\", division_entera)"
   ]
  },
  {
   "cell_type": "code",
   "execution_count": 13,
   "id": "d1552922",
   "metadata": {},
   "outputs": [
    {
     "name": "stdout",
     "output_type": "stream",
     "text": [
      "Módulo: 0\n"
     ]
    }
   ],
   "source": [
    "# Módulo\n",
    "modulo = a % b\n",
    "print(\"Módulo:\", modulo)"
   ]
  },
  {
   "cell_type": "code",
   "execution_count": 14,
   "id": "50c37ed4",
   "metadata": {},
   "outputs": [
    {
     "name": "stdout",
     "output_type": "stream",
     "text": [
      "Potencia: 100000\n"
     ]
    }
   ],
   "source": [
    "# Potencia\n",
    "potencia = a ** b\n",
    "print(\"Potencia:\", potencia)"
   ]
  },
  {
   "cell_type": "markdown",
   "id": "4510a266",
   "metadata": {},
   "source": [
    "2. **Operaciones de comparación**:"
   ]
  },
  {
   "cell_type": "code",
   "execution_count": 15,
   "id": "0e295cbc",
   "metadata": {},
   "outputs": [],
   "source": [
    "a = 10\n",
    "b = 5"
   ]
  },
  {
   "cell_type": "code",
   "execution_count": 16,
   "id": "3f2799cd",
   "metadata": {},
   "outputs": [
    {
     "name": "stdout",
     "output_type": "stream",
     "text": [
      "Igual: False\n"
     ]
    }
   ],
   "source": [
    "# Igualdad\n",
    "igual = a == b\n",
    "print(\"Igual:\", igual)"
   ]
  },
  {
   "cell_type": "code",
   "execution_count": 17,
   "id": "2cbc89ac",
   "metadata": {},
   "outputs": [
    {
     "name": "stdout",
     "output_type": "stream",
     "text": [
      "Desigual: True\n"
     ]
    }
   ],
   "source": [
    "# Desigualdad\n",
    "desigual = a != b\n",
    "print(\"Desigual:\", desigual)"
   ]
  },
  {
   "cell_type": "code",
   "execution_count": 18,
   "id": "1c036f08",
   "metadata": {},
   "outputs": [
    {
     "name": "stdout",
     "output_type": "stream",
     "text": [
      "Mayor que: True\n"
     ]
    }
   ],
   "source": [
    "# Mayor que\n",
    "mayor_que = a > b\n",
    "print(\"Mayor que:\", mayor_que)"
   ]
  },
  {
   "cell_type": "code",
   "execution_count": 19,
   "id": "9f0caf63",
   "metadata": {},
   "outputs": [
    {
     "name": "stdout",
     "output_type": "stream",
     "text": [
      "Mayor o igual que: True\n"
     ]
    }
   ],
   "source": [
    "# Mayor o igual que\n",
    "mayor_igual_que = a >= b\n",
    "print(\"Mayor o igual que:\", mayor_igual_que)"
   ]
  },
  {
   "cell_type": "code",
   "execution_count": 20,
   "id": "1d0bb610",
   "metadata": {},
   "outputs": [
    {
     "name": "stdout",
     "output_type": "stream",
     "text": [
      "Menor que: False\n"
     ]
    }
   ],
   "source": [
    "# Menor que\n",
    "menor_que = a < b\n",
    "print(\"Menor que:\", menor_que)"
   ]
  },
  {
   "cell_type": "code",
   "execution_count": 21,
   "id": "30c9892f",
   "metadata": {},
   "outputs": [
    {
     "name": "stdout",
     "output_type": "stream",
     "text": [
      "Menor o igual que: False\n"
     ]
    }
   ],
   "source": [
    "# Menor o igual que\n",
    "menor_igual_que = a <= b\n",
    "print(\"Menor o igual que:\", menor_igual_que)"
   ]
  },
  {
   "cell_type": "markdown",
   "id": "e19593f7",
   "metadata": {},
   "source": [
    "3. **Operaciones lógicas**:"
   ]
  },
  {
   "cell_type": "code",
   "execution_count": 22,
   "id": "13295410",
   "metadata": {},
   "outputs": [],
   "source": [
    "a = True\n",
    "b = False"
   ]
  },
  {
   "cell_type": "code",
   "execution_count": 23,
   "id": "26ab5651",
   "metadata": {},
   "outputs": [
    {
     "name": "stdout",
     "output_type": "stream",
     "text": [
      "AND lógico: False\n"
     ]
    }
   ],
   "source": [
    "# AND lógico\n",
    "and_logico = a and b\n",
    "print(\"AND lógico:\", and_logico)"
   ]
  },
  {
   "cell_type": "code",
   "execution_count": 24,
   "id": "509d3363",
   "metadata": {},
   "outputs": [
    {
     "name": "stdout",
     "output_type": "stream",
     "text": [
      "OR lógico: True\n",
      "NOT lógico: False\n"
     ]
    }
   ],
   "source": [
    "# OR lógico\n",
    "or_logico = a or b\n",
    "print(\"OR lógico:\", or_logico)\n",
    "_\n",
    "# NOT lógico\n",
    "not_logico = not a\n",
    "print(\"NOT lógico:\", not_logico)"
   ]
  },
  {
   "cell_type": "markdown",
   "id": "71714038",
   "metadata": {},
   "source": [
    "4. **Operaciones con cadenas de texto**:"
   ]
  },
  {
   "cell_type": "code",
   "execution_count": 25,
   "id": "a9f61648",
   "metadata": {},
   "outputs": [],
   "source": [
    "cadena1 = \"Hola\"\n",
    "cadena2 = \"Mundo\""
   ]
  },
  {
   "cell_type": "code",
   "execution_count": 26,
   "id": "9d60c020",
   "metadata": {},
   "outputs": [
    {
     "name": "stdout",
     "output_type": "stream",
     "text": [
      "Concatenación: Hola Mundo\n"
     ]
    }
   ],
   "source": [
    "# Concatenación\n",
    "concatenacion = cadena1 + \" \" + cadena2\n",
    "print(\"Concatenación:\", concatenacion)"
   ]
  },
  {
   "cell_type": "code",
   "execution_count": 27,
   "id": "e461f393",
   "metadata": {},
   "outputs": [
    {
     "name": "stdout",
     "output_type": "stream",
     "text": [
      "Repeticion: HolaHolaHola\n"
     ]
    }
   ],
   "source": [
    "# Repetición\n",
    "repeticion = cadena1 * 3\n",
    "print(\"Repeticion:\", repeticion)"
   ]
  },
  {
   "cell_type": "code",
   "execution_count": 28,
   "id": "2832245f",
   "metadata": {},
   "outputs": [
    {
     "name": "stdout",
     "output_type": "stream",
     "text": [
      "Primer caracter: H\n"
     ]
    }
   ],
   "source": [
    "# Acceso a caracteres individuales\n",
    "primer_caracter = cadena1[0]\n",
    "print(\"Primer caracter:\", primer_caracter)"
   ]
  },
  {
   "cell_type": "markdown",
   "id": "b34d8dea",
   "metadata": {},
   "source": [
    "Estas son solo algunas de las operaciones básicas que puedes realizar en Python. El lenguaje ofrece muchas más funciones y métodos incorporados que pueden ayudarte a manipular datos y realizar cálculos de manera más avanzada. Con estas operaciones, podrás realizar tareas comunes de programación y manipular datos de diferentes tipos de manera efectiva."
   ]
  },
  {
   "cell_type": "markdown",
   "id": "b01a4a17",
   "metadata": {},
   "source": [
    "## Estructuras de Datos\n",
    "\n",
    "En Python, hay varias estructuras de datos incorporadas que te permiten almacenar, organizar y manipular colecciones de valores de diferentes maneras. Algunas de las estructuras de datos más comunes en Python son las siguientes:\n",
    "\n",
    "1. **Listas** (List):\n",
    "Las listas son colecciones ordenadas y modificables de elementos que pueden contener diferentes tipos de datos. Se definen utilizando corchetes `[]`."
   ]
  },
  {
   "cell_type": "code",
   "execution_count": 29,
   "id": "4c3a36bb",
   "metadata": {},
   "outputs": [],
   "source": [
    "mi_lista = [1, 2, 3, \"Hola\", True]"
   ]
  },
  {
   "cell_type": "markdown",
   "id": "025d5005",
   "metadata": {},
   "source": [
    "2. **Tuplas** (Tuple):\n",
    "Las tuplas son colecciones ordenadas e inmutables de elementos que pueden contener diferentes tipos de datos. Se definen utilizando paréntesis `()`."
   ]
  },
  {
   "cell_type": "code",
   "execution_count": 30,
   "id": "59acde09",
   "metadata": {},
   "outputs": [],
   "source": [
    "mi_tupla = (1, 2, 3, \"Hola\", True)"
   ]
  },
  {
   "cell_type": "markdown",
   "id": "3bfe7560",
   "metadata": {},
   "source": [
    "3. **Diccionarios** (Dictionary):\n",
    "Los diccionarios son colecciones no ordenadas de pares clave-valor, donde las claves son únicas e inmutables. Se definen utilizando llaves `{}`."
   ]
  },
  {
   "cell_type": "code",
   "execution_count": 31,
   "id": "8c3083f5",
   "metadata": {},
   "outputs": [],
   "source": [
    "mi_diccionario = {\"nombre\": \"Juan\", \"edad\": 30, \"ciudad\": \"Madrid\"}"
   ]
  },
  {
   "cell_type": "markdown",
   "id": "8a7ca07c",
   "metadata": {},
   "source": [
    "4. **Conjuntos** (Set):\n",
    "Los conjuntos son colecciones no ordenadas de elementos únicos e inmutables. Se definen utilizando llaves `{}` o la función `set()`."
   ]
  },
  {
   "cell_type": "code",
   "execution_count": 32,
   "id": "bc7732cd",
   "metadata": {},
   "outputs": [],
   "source": [
    "mi_conjunto = {1, 2, 3, 4, 5}"
   ]
  },
  {
   "cell_type": "markdown",
   "id": "326bbc2a",
   "metadata": {},
   "source": [
    "5. **Cadenas de texto** (String):\n",
    "Las cadenas de texto son secuencias inmutables de caracteres. Se definen utilizando comillas simples o dobles."
   ]
  },
  {
   "cell_type": "code",
   "execution_count": 33,
   "id": "0e6d7301",
   "metadata": {},
   "outputs": [],
   "source": [
    "mi_cadena = \"Hola Mundo\""
   ]
  },
  {
   "cell_type": "markdown",
   "id": "a9f4cce3",
   "metadata": {},
   "source": [
    "Estas estructuras de datos ofrecen diferentes funcionalidades y características, lo que permite trabajar con datos de manera eficiente en diferentes escenarios. Por ejemplo, las listas son útiles para almacenar datos ordenados y modificarlos, las tuplas son adecuadas cuando se necesita una colección inmutable y los diccionarios son ideales para almacenar datos asociados mediante claves.\n",
    "\n",
    "Puedes utilizar estas estructuras de datos en combinación con las operaciones y funciones integradas de Python para realizar diversas operaciones y manipulaciones de datos. Es importante entender cada tipo de estructura de datos y elegir el más adecuado para cada situación, ya que cada uno tiene sus ventajas y limitaciones dependiendo del problema que estés abordando."
   ]
  },
  {
   "cell_type": "markdown",
   "id": "c89feb04",
   "metadata": {},
   "source": [
    "## Control de Flujo\n",
    "\n",
    "El control de flujo en Python se refiere a las estructuras y construcciones que te permiten controlar cómo se ejecutan las instrucciones de un programa en función de ciertas condiciones. Python proporciona varias estructuras de control de flujo para tomar decisiones y repetir acciones según ciertas condiciones. Las principales estructuras de control de flujo en Python son:\n",
    "\n",
    "1. **Declaración if-elif-else**:\n",
    "La declaración `if` permite ejecutar un bloque de código solo si se cumple una condición específica. Puedes usar `elif` para agregar más condiciones y `else` para ejecutar un bloque de código en caso de que ninguna de las condiciones anteriores sea verdadera."
   ]
  },
  {
   "cell_type": "code",
   "execution_count": 34,
   "id": "0f426bfd",
   "metadata": {},
   "outputs": [
    {
     "name": "stdout",
     "output_type": "stream",
     "text": [
      "x es positivo\n"
     ]
    }
   ],
   "source": [
    "x = 10\n",
    "\n",
    "if x > 0:\n",
    "    print(\"x es positivo\")\n",
    "elif x < 0:\n",
    "    print(\"x es negativo\")\n",
    "else:\n",
    "    print(\"x es cero\")"
   ]
  },
  {
   "cell_type": "markdown",
   "id": "3485cb68",
   "metadata": {},
   "source": [
    "2. **Declaración for**:\n",
    "La declaración `for` se utiliza para iterar sobre elementos de una secuencia (como listas, tuplas o cadenas) o cualquier objeto que sea iterable."
   ]
  },
  {
   "cell_type": "code",
   "execution_count": 35,
   "id": "a52f7b63",
   "metadata": {},
   "outputs": [
    {
     "name": "stdout",
     "output_type": "stream",
     "text": [
      "manzana\n",
      "banana\n",
      "naranja\n"
     ]
    }
   ],
   "source": [
    "frutas = [\"manzana\", \"banana\", \"naranja\"]\n",
    "\n",
    "for fruta in frutas:\n",
    "    print(fruta)"
   ]
  },
  {
   "cell_type": "markdown",
   "id": "34bcbbf7",
   "metadata": {},
   "source": [
    "3. **Declaración while**:\n",
    "La declaración `while` se utiliza para repetir un bloque de código mientras se cumpla una determinada condición."
   ]
  },
  {
   "cell_type": "code",
   "execution_count": 36,
   "id": "bec87d66",
   "metadata": {},
   "outputs": [
    {
     "name": "stdout",
     "output_type": "stream",
     "text": [
      "Contador: 0\n",
      "Contador: 1\n",
      "Contador: 2\n",
      "Contador: 3\n",
      "Contador: 4\n"
     ]
    }
   ],
   "source": [
    "contador = 0\n",
    "\n",
    "while contador < 5:\n",
    "    print(\"Contador:\", contador)\n",
    "    contador += 1"
   ]
  },
  {
   "cell_type": "markdown",
   "id": "f918dc36",
   "metadata": {},
   "source": [
    "4. **Declaración break y continue**:\n",
    "Dentro de bucles `for` y `while`, puedes utilizar `break` para salir del bucle antes de que se complete, y `continue` para pasar a la siguiente iteración sin ejecutar el resto del código dentro del bucle."
   ]
  },
  {
   "cell_type": "code",
   "execution_count": 37,
   "id": "4ccf8569",
   "metadata": {},
   "outputs": [
    {
     "name": "stdout",
     "output_type": "stream",
     "text": [
      "0\n",
      "1\n",
      "2\n",
      "3\n",
      "4\n"
     ]
    }
   ],
   "source": [
    "for i in range(10):\n",
    "    if i == 5:\n",
    "        break\n",
    "    print(i)"
   ]
  },
  {
   "cell_type": "code",
   "execution_count": 38,
   "id": "7c1a5c8b",
   "metadata": {},
   "outputs": [
    {
     "name": "stdout",
     "output_type": "stream",
     "text": [
      "0\n",
      "1\n",
      "2\n",
      "4\n",
      "5\n",
      "6\n",
      "7\n",
      "8\n",
      "9\n"
     ]
    }
   ],
   "source": [
    "for i in range(10):\n",
    "    if i == 3:\n",
    "        continue\n",
    "    print(i)"
   ]
  },
  {
   "cell_type": "markdown",
   "id": "f8aa18a6",
   "metadata": {},
   "source": [
    "5. **Declaración pass**:\n",
    "La declaración `pass` se utiliza cuando se necesita una declaración sintácticamente válida pero no se requiere ninguna acción. Es útil en un esqueleto de código que aún no está implementado."
   ]
  },
  {
   "cell_type": "code",
   "execution_count": 39,
   "id": "69a0ad76",
   "metadata": {},
   "outputs": [
    {
     "name": "stdout",
     "output_type": "stream",
     "text": [
      "x es menor o igual a 10\n"
     ]
    }
   ],
   "source": [
    "if x > 10:\n",
    "    pass  # Implementación pendiente\n",
    "else:\n",
    "    print(\"x es menor o igual a 10\")"
   ]
  },
  {
   "cell_type": "markdown",
   "id": "01ed33bb",
   "metadata": {},
   "source": [
    "Estas son algunas de las principales estructuras de control de flujo en Python. Con ellas, puedes crear programas más complejos y tomar decisiones basadas en condiciones y repeticiones de acciones. La elección de la estructura adecuada dependerá de los requisitos específicos de tu programa y la lógica que desees implementar."
   ]
  },
  {
   "cell_type": "markdown",
   "id": "2b1191c5",
   "metadata": {},
   "source": [
    "## Funciones\n",
    "\n",
    "En Python, una función es un bloque de código que realiza una tarea específica y puede ser llamado desde otras partes del programa para ejecutar esa tarea. Las funciones en Python ayudan a organizar el código, mejorar la reutilización y facilitar el mantenimiento. Para definir una función en Python, utilizamos la palabra clave `def`, seguida del nombre de la función, paréntesis que pueden contener argumentos y dos puntos `:`. El bloque de código de la función se define con sangría.\n",
    "\n",
    "Aquí tienes un ejemplo básico de cómo definir y llamar una función en Python:"
   ]
  },
  {
   "cell_type": "code",
   "execution_count": 40,
   "id": "fc4bf5f1",
   "metadata": {},
   "outputs": [
    {
     "name": "stdout",
     "output_type": "stream",
     "text": [
      "¡Hola! Bienvenido a Python.\n"
     ]
    }
   ],
   "source": [
    "# Definición de una función simple\n",
    "def saludar():\n",
    "    print(\"¡Hola! Bienvenido a Python.\")\n",
    "\n",
    "# Llamada a la función\n",
    "saludar()"
   ]
  },
  {
   "cell_type": "markdown",
   "id": "d943afef",
   "metadata": {},
   "source": [
    "En este ejemplo, hemos definido una función llamada `saludar()` que imprime el mensaje \"¡Hola! Bienvenido a Python.\". Para llamar a la función y ejecutar su código, simplemente escribimos `saludar()`.\n",
    "\n",
    "Las funciones también pueden recibir argumentos para que puedan aceptar datos externos y procesarlos. Veamos un ejemplo:"
   ]
  },
  {
   "cell_type": "code",
   "execution_count": 41,
   "id": "741e8495",
   "metadata": {},
   "outputs": [
    {
     "name": "stdout",
     "output_type": "stream",
     "text": [
      "La suma de 5 y 3 es: 8\n"
     ]
    }
   ],
   "source": [
    "# Definición de una función con argumentos\n",
    "def sumar(a, b):\n",
    "    resultado = a + b\n",
    "    print(\"La suma de\", a, \"y\", b, \"es:\", resultado)\n",
    "\n",
    "# Llamada a la función con argumentos\n",
    "sumar(5, 3)"
   ]
  },
  {
   "cell_type": "markdown",
   "id": "c1ac034e",
   "metadata": {},
   "source": [
    "En este caso, hemos definido la función `sumar(a, b)` que toma dos argumentos `a` y `b`, realiza la suma y muestra el resultado.\n",
    "\n",
    "Además, las funciones pueden devolver valores mediante la palabra clave `return`. Un ejemplo:"
   ]
  },
  {
   "cell_type": "code",
   "execution_count": 42,
   "id": "b149259c",
   "metadata": {},
   "outputs": [
    {
     "name": "stdout",
     "output_type": "stream",
     "text": [
      "El cuadrado de 4 es: 16\n"
     ]
    }
   ],
   "source": [
    "# Definición de una función que devuelve un valor\n",
    "def cuadrado(numero):\n",
    "    return numero * numero\n",
    "\n",
    "# Llamada a la función y almacenamiento del valor devuelto\n",
    "resultado_cuadrado = cuadrado(4)\n",
    "print(\"El cuadrado de 4 es:\", resultado_cuadrado)"
   ]
  },
  {
   "cell_type": "markdown",
   "id": "23142ece",
   "metadata": {},
   "source": [
    "En este caso, la función `cuadrado(numero)` devuelve el cuadrado del número proporcionado como argumento.\n",
    "\n",
    "Las funciones son una parte fundamental de la programación en Python, y te permiten estructurar y organizar tu código de manera más eficiente, mejorando su legibilidad y mantenibilidad. Además de las funciones definidas por el usuario, Python también proporciona muchas funciones incorporadas que se utilizan comúnmente, como `print()`, `len()`, `input()`, etc. Puedes crear tus propias funciones para encapsular lógica específica y hacer tu código más modular y reutilizable."
   ]
  }
 ],
 "metadata": {
  "kernelspec": {
   "display_name": "Python 3 (ipykernel)",
   "language": "python",
   "name": "python3"
  },
  "language_info": {
   "codemirror_mode": {
    "name": "ipython",
    "version": 3
   },
   "file_extension": ".py",
   "mimetype": "text/x-python",
   "name": "python",
   "nbconvert_exporter": "python",
   "pygments_lexer": "ipython3",
   "version": "3.8.10"
  }
 },
 "nbformat": 4,
 "nbformat_minor": 5
}
