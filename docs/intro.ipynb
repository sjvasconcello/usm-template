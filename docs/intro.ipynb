{
 "cells": [
  {
   "cell_type": "markdown",
   "id": "7eb7b2d0",
   "metadata": {},
   "source": [
    "# Introducción\n",
    "\n",
    "## Acerca de Python\n",
    "\n",
    "<img src=\"https://drive.google.com/uc?export=view&id=1GeK3f7tkuFInBQpSxityHMDzULn7uslh\" width = \"200\" align=\"center\"/>\n",
    "\n",
    "\n",
    "[Python](https://www.python.org/) es un lenguaje de programación de alto nivel, interpretado y de propósito general. Fue creado por **Guido van Rossum** y lanzado por primera vez en 1991. Python se destaca por su simplicidad, legibilidad y facilidad de aprendizaje, lo que lo convierte en una excelente opción tanto para principiantes como para programadores experimentados.\n",
    "\n",
    "Características clave de Python:\n",
    "\n",
    "1. **Sintaxis clara y legible**: Python utiliza una sintaxis limpia y fácil de leer, lo que facilita el desarrollo y el mantenimiento del código.\n",
    "\n",
    "2. **Interpretado**: Python no necesita ser compilado antes de su ejecución, como lo hacen lenguajes como C o C++. En cambio, es interpretado línea por línea, lo que permite una mayor facilidad en la fase de desarrollo y pruebas.\n",
    "\n",
    "3. **Multiparadigma**: Python admite varios estilos de programación, como programación orientada a objetos, programación imperativa y programación funcional.\n",
    "\n",
    "4. **Amplia biblioteca estándar**: Python cuenta con una gran cantidad de módulos y bibliotecas que facilitan el desarrollo de diversas aplicaciones sin tener que escribir todo desde cero.\n",
    "\n",
    "5. **Portabilidad**: Python es compatible con múltiples plataformas, lo que significa que el mismo código puede ejecutarse en diferentes sistemas operativos sin modificaciones significativas.\n",
    "\n",
    "6. **Comunidad activa**: Python tiene una comunidad de desarrolladores muy activa, lo que significa que hay una gran cantidad de recursos, bibliotecas y herramientas disponibles.\n",
    "\n",
    "Python se utiliza para una amplia gama de aplicaciones, como desarrollo web, ciencia de datos, inteligencia artificial, automatización, scripting, desarrollo de videojuegos y más. Su popularidad ha aumentado significativamente en los últimos años debido a su versatilidad y facilidad de uso."
   ]
  },
  {
   "cell_type": "markdown",
   "id": "72205998",
   "metadata": {},
   "source": [
    "## Acerca Jupyter Notebook\n",
    "\n",
    "<img src=\"https://drive.google.com/uc?export=view&id=18jjEZXgyWQixsZb9IMuSI0d7G3LQzgzT\" width = \"200\" align=\"center\"/>\n",
    "\n",
    "\n",
    "[Jupyter Notebook](https://jupyter.org/) es una aplicación web de código abierto que permite crear y compartir documentos interactivos que contienen código en vivo, texto explicativo, ecuaciones matemáticas, visualizaciones y otros elementos multimedia. Fue desarrollado originalmente como parte del proyecto IPython en 2011, pero luego se convirtió en un proyecto independiente llamado Jupyter (derivado de las palabras \"Julia\", \"Python\" y \"R\", que son los lenguajes de programación que inicialmente soportaba).\n",
    "\n",
    "El nombre \"Jupyter\" refleja el hecho de que la aplicación puede ejecutar códigos en varios lenguajes, no solo Python. Además de Python, también admite lenguajes como R, Julia, JavaScript y otros, a través de los llamados \"kernels\".\n",
    "\n",
    "Características y usos principales de Jupyter Notebook:\n",
    "\n",
    "1. **Interactividad**: Jupyter Notebook permite ejecutar y modificar código de forma interactiva en celdas. Esto significa que puedes escribir código en una celda y ejecutarlo inmediatamente para ver los resultados. Esto es especialmente útil para el análisis de datos y la exploración interactiva.\n",
    "\n",
    "2. **Documentación enriquecida**: Además de ejecutar código, se pueden agregar celdas de texto formateado usando Markdown para proporcionar explicaciones, instrucciones y contexto dentro del documento.\n",
    "\n",
    "3. **Visualizaciones**: Jupyter Notebook admite la generación y visualización de gráficos y visualizaciones directamente en el documento. Esto facilita la creación de representaciones visuales para análisis de datos y presentaciones.\n",
    "\n",
    "4. **Compartir y colaborar**: Los notebooks de Jupyter se pueden compartir fácilmente con otros, lo que permite una colaboración más efectiva en proyectos de análisis y desarrollo. También es una herramienta popular en el ámbito educativo, ya que los instructores pueden compartir material interactivo con estudiantes.\n",
    "\n",
    "5. **Integración de multimedia**: Además de texto y código, los notebooks de Jupyter pueden incluir elementos multimedia como imágenes, videos y audio para enriquecer la experiencia de lectura.\n",
    "\n",
    "Jupyter Notebook se puede ejecutar localmente en una máquina con la instalación de Jupyter, o de manera remota en servicios en la nube que ofrecen ambientes colaborativos basados en Jupyter. También existen versiones mejoradas y evolucionadas de Jupyter Notebook, como JupyterLab, que proporcionan una interfaz más rica y versátil para el desarrollo y análisis de datos. En general, Jupyter Notebook es una herramienta muy útil para aquellos que trabajan con análisis de datos, programación científica, enseñanza y cualquier tarea que involucre código interactivo y documentación enriquecida."
   ]
  }
 ],
 "metadata": {
  "kernelspec": {
   "display_name": "Python 3 (ipykernel)",
   "language": "python",
   "name": "python3"
  },
  "language_info": {
   "codemirror_mode": {
    "name": "ipython",
    "version": 3
   },
   "file_extension": ".py",
   "mimetype": "text/x-python",
   "name": "python",
   "nbconvert_exporter": "python",
   "pygments_lexer": "ipython3",
   "version": "3.8.10"
  }
 },
 "nbformat": 4,
 "nbformat_minor": 5
}
